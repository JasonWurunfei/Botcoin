{
 "cells": [
  {
   "cell_type": "code",
   "execution_count": 22,
   "id": "a2267b01",
   "metadata": {},
   "outputs": [],
   "source": [
    "import sys\n",
    "# Add the src directory to the Python path\n",
    "sys.path.insert(0, '../src')"
   ]
  },
  {
   "cell_type": "code",
   "execution_count": 23,
   "id": "c2536599",
   "metadata": {},
   "outputs": [],
   "source": [
    "from botcoin.profilers.stock import StockProfiler\n",
    "\n",
    "profiler = StockProfiler()"
   ]
  },
  {
   "cell_type": "code",
   "execution_count": 24,
   "id": "348114cd",
   "metadata": {},
   "outputs": [],
   "source": [
    "SYMBOL1 = 'T'\n",
    "SYMBOL2 = 'CSCO'"
   ]
  },
  {
   "cell_type": "code",
   "execution_count": 25,
   "id": "368ee603",
   "metadata": {},
   "outputs": [
    {
     "name": "stderr",
     "output_type": "stream",
     "text": [
      "c:\\Users\\runfei\\projects\\Botcoin\\notebooks\\../src\\botcoin\\profilers\\stock.py:171: FutureWarning: YF.download() has changed argument auto_adjust default to True\n",
      "  irx = yf.download(\"^IRX\", start=start_date, end=end_date)\n",
      "[*********************100%***********************]  1 of 1 completed\n",
      "c:\\Users\\runfei\\projects\\Botcoin\\notebooks\\../src\\botcoin\\profilers\\stock.py:171: FutureWarning: YF.download() has changed argument auto_adjust default to True\n",
      "  irx = yf.download(\"^IRX\", start=start_date, end=end_date)\n",
      "[*********************100%***********************]  1 of 1 completed\n"
     ]
    }
   ],
   "source": [
    "profile1 = profiler.profile(SYMBOL1)\n",
    "profile2 = profiler.profile(SYMBOL2)"
   ]
  },
  {
   "cell_type": "code",
   "execution_count": 26,
   "id": "2119ae1e",
   "metadata": {},
   "outputs": [
    {
     "name": "stdout",
     "output_type": "stream",
     "text": [
      "Symbol: T\n",
      "IPO Date: 1983-11-21\n",
      "Quote: 28.08\n",
      "Annual Return: 11.89%\n",
      "Sharpe Ratio: 0.44\n",
      "Sortino Ratio: 0.64\n",
      "Beta: 0.41\n"
     ]
    }
   ],
   "source": [
    "profiler.print_profile(profile1)"
   ]
  },
  {
   "cell_type": "code",
   "execution_count": 27,
   "id": "763f9ef0",
   "metadata": {},
   "outputs": [
    {
     "name": "stdout",
     "output_type": "stream",
     "text": [
      "Symbol: CSCO\n",
      "IPO Date: 1990-02-16\n",
      "Quote: 68.65\n",
      "Annual Return: 10.72%\n",
      "Sharpe Ratio: 0.52\n",
      "Sortino Ratio: 0.54\n",
      "Beta: 0.79\n"
     ]
    }
   ],
   "source": [
    "profiler.print_profile(profile2)"
   ]
  },
  {
   "cell_type": "code",
   "execution_count": 28,
   "id": "a3d924fe",
   "metadata": {},
   "outputs": [
    {
     "name": "stdout",
     "output_type": "stream",
     "text": [
      "Correlation between T and CSCO: 0.270840\n"
     ]
    }
   ],
   "source": [
    "corr = profiler.compute_1d_return_correlation(SYMBOL1, SYMBOL2)\n",
    "print(f\"Correlation between {SYMBOL1} and {SYMBOL2}: {corr:.6f}\")"
   ]
  }
 ],
 "metadata": {
  "kernelspec": {
   "display_name": ".venv",
   "language": "python",
   "name": "python3"
  },
  "language_info": {
   "codemirror_mode": {
    "name": "ipython",
    "version": 3
   },
   "file_extension": ".py",
   "mimetype": "text/x-python",
   "name": "python",
   "nbconvert_exporter": "python",
   "pygments_lexer": "ipython3",
   "version": "3.13.2"
  }
 },
 "nbformat": 4,
 "nbformat_minor": 5
}
