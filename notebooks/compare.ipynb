{
 "cells": [
  {
   "cell_type": "code",
   "execution_count": 29,
   "id": "a2267b01",
   "metadata": {},
   "outputs": [],
   "source": [
    "import sys\n",
    "# Add the src directory to the Python path\n",
    "sys.path.insert(0, '../src')"
   ]
  },
  {
   "cell_type": "code",
   "execution_count": 30,
   "id": "c2536599",
   "metadata": {},
   "outputs": [],
   "source": [
    "from botcoin.profilers.stock import StockProfiler\n",
    "\n",
    "profiler = StockProfiler()"
   ]
  },
  {
   "cell_type": "code",
   "execution_count": 31,
   "id": "348114cd",
   "metadata": {},
   "outputs": [],
   "source": [
    "SYMBOL1 = 'NVDA'\n",
    "SYMBOL2 = 'T'"
   ]
  },
  {
   "cell_type": "code",
   "execution_count": 32,
   "id": "368ee603",
   "metadata": {},
   "outputs": [
    {
     "name": "stderr",
     "output_type": "stream",
     "text": [
      "[*********************100%***********************]  1 of 1 completed\n",
      "[*********************100%***********************]  1 of 1 completed\n"
     ]
    }
   ],
   "source": [
    "profile1 = profiler.profile(SYMBOL1)\n",
    "profile2 = profiler.profile(SYMBOL2)"
   ]
  },
  {
   "cell_type": "code",
   "execution_count": null,
   "id": "2119ae1e",
   "metadata": {},
   "outputs": [
    {
     "name": "stdout",
     "output_type": "stream",
     "text": [
      "Current Price of NVDA: 144.085\n",
      "Annual Return of NVDA: 103.07%\n",
      "Sharpe Ratio of NVDA: 1.091119\n",
      "Sortino Ratio of NVDA: 1.117020\n"
     ]
    }
   ],
   "source": [
    "profiler.print_profile(profile1)"
   ]
  },
  {
   "cell_type": "code",
   "execution_count": null,
   "id": "763f9ef0",
   "metadata": {},
   "outputs": [
    {
     "name": "stdout",
     "output_type": "stream",
     "text": [
      "Current Price of T: 28.59\n",
      "Annual Return of T: 11.20%\n",
      "Sharpe Ratio of T: 0.423573\n",
      "Sortino Ratio of T: 0.626039\n"
     ]
    }
   ],
   "source": [
    "profiler.print_profile(profile2)"
   ]
  },
  {
   "cell_type": "code",
   "execution_count": 35,
   "id": "a3d924fe",
   "metadata": {},
   "outputs": [
    {
     "name": "stdout",
     "output_type": "stream",
     "text": [
      "Correlation between NVDA and T: 0.014745\n"
     ]
    }
   ],
   "source": [
    "corr = profiler.compute_1d_return_correlation(SYMBOL1, SYMBOL2)\n",
    "print(f\"Correlation between {SYMBOL1} and {SYMBOL2}: {corr:.6f}\")"
   ]
  }
 ],
 "metadata": {
  "kernelspec": {
   "display_name": ".venv",
   "language": "python",
   "name": "python3"
  },
  "language_info": {
   "codemirror_mode": {
    "name": "ipython",
    "version": 3
   },
   "file_extension": ".py",
   "mimetype": "text/x-python",
   "name": "python",
   "nbconvert_exporter": "python",
   "pygments_lexer": "ipython3",
   "version": "3.13.2"
  }
 },
 "nbformat": 4,
 "nbformat_minor": 5
}
