{
 "cells": [
  {
   "cell_type": "code",
   "execution_count": 1,
   "id": "a2267b01",
   "metadata": {},
   "outputs": [],
   "source": [
    "import sys\n",
    "# Add the src directory to the Python path\n",
    "sys.path.insert(0, '../src')"
   ]
  },
  {
   "cell_type": "code",
   "execution_count": 2,
   "id": "c2536599",
   "metadata": {},
   "outputs": [],
   "source": [
    "from botcoin.profilers.stock import StockProfiler\n",
    "\n",
    "profiler = StockProfiler()"
   ]
  },
  {
   "cell_type": "code",
   "execution_count": 3,
   "id": "348114cd",
   "metadata": {},
   "outputs": [],
   "source": [
    "SYMBOL1 = 'MSTR'\n",
    "SYMBOL2 = 'STRK'"
   ]
  },
  {
   "cell_type": "code",
   "execution_count": 5,
   "id": "368ee603",
   "metadata": {},
   "outputs": [
    {
     "name": "stderr",
     "output_type": "stream",
     "text": [
      "c:\\Users\\runfei\\projects\\Botcoin\\notebooks\\../src\\botcoin\\data\\historical.py:167: FutureWarning: YF.download() has changed argument auto_adjust default to True\n",
      "  df = yf.download(\n",
      "2025-07-08 07:56:39,742 - DataManager - INFO: Data saved to data\\MSTR_ohlcv_1m.parquet\n",
      "c:\\Users\\runfei\\projects\\Botcoin\\notebooks\\../src\\botcoin\\data\\historical.py:167: FutureWarning: YF.download() has changed argument auto_adjust default to True\n",
      "  df = yf.download(\n",
      "2025-07-08 07:56:40,325 - DataManager - INFO: Data saved to data\\MSTR_ohlcv_1m.parquet\n",
      "c:\\Users\\runfei\\projects\\Botcoin\\notebooks\\../src\\botcoin\\data\\historical.py:167: FutureWarning: YF.download() has changed argument auto_adjust default to True\n",
      "  df = yf.download(\n",
      "2025-07-08 07:56:40,603 - DataManager - INFO: Data saved to data\\MSTR_ohlcv_1m.parquet\n",
      "c:\\Users\\runfei\\projects\\Botcoin\\notebooks\\../src\\botcoin\\data\\historical.py:167: FutureWarning: YF.download() has changed argument auto_adjust default to True\n",
      "  df = yf.download(\n",
      "2025-07-08 07:56:41,098 - DataManager - INFO: Data saved to data\\MSTR_ohlcv_1m.parquet\n",
      "c:\\Users\\runfei\\projects\\Botcoin\\notebooks\\../src\\botcoin\\data\\historical.py:167: FutureWarning: YF.download() has changed argument auto_adjust default to True\n",
      "  df = yf.download(\n",
      "2025-07-08 07:56:41,368 - DataManager - INFO: Data saved to data\\MSTR_ohlcv_1m.parquet\n",
      "c:\\Users\\runfei\\projects\\Botcoin\\notebooks\\../src\\botcoin\\data\\historical.py:167: FutureWarning: YF.download() has changed argument auto_adjust default to True\n",
      "  df = yf.download(\n",
      "2025-07-08 07:56:41,929 - DataManager - INFO: Data saved to data\\MSTR_ohlcv_1m.parquet\n",
      "c:\\Users\\runfei\\projects\\Botcoin\\notebooks\\../src\\botcoin\\data\\historical.py:167: FutureWarning: YF.download() has changed argument auto_adjust default to True\n",
      "  df = yf.download(\n",
      "2025-07-08 07:56:42,206 - DataManager - INFO: Data saved to data\\MSTR_ohlcv_1m.parquet\n",
      "c:\\Users\\runfei\\projects\\Botcoin\\notebooks\\../src\\botcoin\\data\\historical.py:167: FutureWarning: YF.download() has changed argument auto_adjust default to True\n",
      "  df = yf.download(\n",
      "2025-07-08 07:56:43,004 - YfDataProvider - WARNING: The market is not open yet, no data available.\n",
      "2025-07-08 07:56:43,009 - DataManager - INFO: Data saved to data\\MSTR_ohlcv_1m.parquet\n",
      "2025-07-08 07:56:43,391 - YfDataProvider - WARNING: The market is not open yet, no data available.\n",
      "2025-07-08 07:56:43,396 - DataManager - INFO: Data saved to data\\MSTR_ohlcv_1m.parquet\n",
      "c:\\Users\\runfei\\projects\\Botcoin\\notebooks\\../src\\botcoin\\data\\historical.py:167: FutureWarning: YF.download() has changed argument auto_adjust default to True\n",
      "  df = yf.download(\n",
      "2025-07-08 07:56:43,876 - DataManager - INFO: Data saved to data\\MSTR_ohlcv_1d.parquet\n",
      "c:\\Users\\runfei\\projects\\Botcoin\\notebooks\\../src\\botcoin\\profilers\\stock.py:282: FutureWarning: YF.download() has changed argument auto_adjust default to True\n",
      "  irx = yf.download(\"^IRX\", start=start_date, end=end_date)\n",
      "[*********************100%***********************]  1 of 1 completed\n",
      "c:\\Users\\runfei\\projects\\Botcoin\\notebooks\\../src\\botcoin\\data\\historical.py:167: FutureWarning: YF.download() has changed argument auto_adjust default to True\n",
      "  df = yf.download(\n",
      "2025-07-08 07:56:45,657 - DataManager - INFO: Data saved to data\\SPY_ohlcv_1d.parquet\n",
      "c:\\Users\\runfei\\projects\\Botcoin\\notebooks\\../src\\botcoin\\data\\historical.py:167: FutureWarning: YF.download() has changed argument auto_adjust default to True\n",
      "  df = yf.download(\n",
      "2025-07-08 07:56:46,940 - DataManager - INFO: Data saved to data\\STRK_ohlcv_1m.parquet\n",
      "c:\\Users\\runfei\\projects\\Botcoin\\notebooks\\../src\\botcoin\\data\\historical.py:167: FutureWarning: YF.download() has changed argument auto_adjust default to True\n",
      "  df = yf.download(\n",
      "2025-07-08 07:56:47,448 - DataManager - INFO: Data saved to data\\STRK_ohlcv_1m.parquet\n",
      "c:\\Users\\runfei\\projects\\Botcoin\\notebooks\\../src\\botcoin\\data\\historical.py:167: FutureWarning: YF.download() has changed argument auto_adjust default to True\n",
      "  df = yf.download(\n",
      "2025-07-08 07:56:47,719 - DataManager - INFO: Data saved to data\\STRK_ohlcv_1m.parquet\n",
      "c:\\Users\\runfei\\projects\\Botcoin\\notebooks\\../src\\botcoin\\data\\historical.py:167: FutureWarning: YF.download() has changed argument auto_adjust default to True\n",
      "  df = yf.download(\n",
      "2025-07-08 07:56:48,304 - DataManager - INFO: Data saved to data\\STRK_ohlcv_1m.parquet\n",
      "c:\\Users\\runfei\\projects\\Botcoin\\notebooks\\../src\\botcoin\\data\\historical.py:167: FutureWarning: YF.download() has changed argument auto_adjust default to True\n",
      "  df = yf.download(\n",
      "2025-07-08 07:56:48,576 - DataManager - INFO: Data saved to data\\STRK_ohlcv_1m.parquet\n",
      "c:\\Users\\runfei\\projects\\Botcoin\\notebooks\\../src\\botcoin\\data\\historical.py:167: FutureWarning: YF.download() has changed argument auto_adjust default to True\n",
      "  df = yf.download(\n",
      "2025-07-08 07:56:49,081 - DataManager - INFO: Data saved to data\\STRK_ohlcv_1m.parquet\n",
      "c:\\Users\\runfei\\projects\\Botcoin\\notebooks\\../src\\botcoin\\data\\historical.py:167: FutureWarning: YF.download() has changed argument auto_adjust default to True\n",
      "  df = yf.download(\n",
      "2025-07-08 07:56:49,364 - DataManager - INFO: Data saved to data\\STRK_ohlcv_1m.parquet\n",
      "c:\\Users\\runfei\\projects\\Botcoin\\notebooks\\../src\\botcoin\\data\\historical.py:167: FutureWarning: YF.download() has changed argument auto_adjust default to True\n",
      "  df = yf.download(\n",
      "2025-07-08 07:56:50,142 - YfDataProvider - WARNING: The market is not open yet, no data available.\n",
      "2025-07-08 07:56:50,146 - DataManager - INFO: Data saved to data\\STRK_ohlcv_1m.parquet\n",
      "2025-07-08 07:56:50,490 - YfDataProvider - WARNING: The market is not open yet, no data available.\n",
      "2025-07-08 07:56:50,494 - DataManager - INFO: Data saved to data\\STRK_ohlcv_1m.parquet\n",
      "2025-07-08 07:56:50,494 - DataManager - WARNING: The start date 2020-07-09 is before the IPO date 2025-02-03 for STRK. Adjusting start date to the IPO date.\n",
      "c:\\Users\\runfei\\projects\\Botcoin\\notebooks\\../src\\botcoin\\data\\historical.py:167: FutureWarning: YF.download() has changed argument auto_adjust default to True\n",
      "  df = yf.download(\n",
      "2025-07-08 07:56:50,903 - DataManager - INFO: Data saved to data\\STRK_ohlcv_1d.parquet\n",
      "c:\\Users\\runfei\\projects\\Botcoin\\notebooks\\../src\\botcoin\\profilers\\stock.py:282: FutureWarning: YF.download() has changed argument auto_adjust default to True\n",
      "  irx = yf.download(\"^IRX\", start=start_date, end=end_date)\n",
      "[*********************100%***********************]  1 of 1 completed\n",
      "2025-07-08 07:56:50,920 - DataManager - WARNING: The start date 2020-07-09 is before the IPO date 2025-02-03 for STRK. Adjusting start date to the IPO date.\n"
     ]
    }
   ],
   "source": [
    "profile1 = profiler.profile(SYMBOL1)\n",
    "profile2 = profiler.profile(SYMBOL2)"
   ]
  },
  {
   "cell_type": "code",
   "execution_count": 6,
   "id": "2119ae1e",
   "metadata": {},
   "outputs": [
    {
     "name": "stdout",
     "output_type": "stream",
     "text": [
      "Symbol: MSTR\n",
      "IPO Date: 1998-06-11\n",
      "Quote: 395.67\n",
      "Expected Annual Return: 159.40%\n",
      "Sharpe Ratio: 0.76\n",
      "Sortino Ratio: 0.93\n",
      "Beta: 2.66\n"
     ]
    }
   ],
   "source": [
    "profiler.print_profile(profile1)"
   ]
  },
  {
   "cell_type": "code",
   "execution_count": 7,
   "id": "763f9ef0",
   "metadata": {},
   "outputs": [
    {
     "name": "stdout",
     "output_type": "stream",
     "text": [
      "Symbol: STRK\n",
      "IPO Date: 2025-02-03\n",
      "Quote: 120.8\n",
      "Expected Annual Return: nan%\n",
      "Sharpe Ratio: nan\n",
      "Sortino Ratio: nan\n",
      "Beta: 0.41\n"
     ]
    }
   ],
   "source": [
    "profiler.print_profile(profile2)"
   ]
  },
  {
   "cell_type": "code",
   "execution_count": 8,
   "id": "a3d924fe",
   "metadata": {},
   "outputs": [
    {
     "name": "stderr",
     "output_type": "stream",
     "text": [
      "2025-07-08 07:56:53,519 - DataManager - WARNING: The start date 2020-07-09 is before the IPO date 2025-02-03 for STRK. Adjusting start date to the IPO date.\n"
     ]
    },
    {
     "name": "stdout",
     "output_type": "stream",
     "text": [
      "Correlation between MSTR and STRK: 0.498588\n"
     ]
    }
   ],
   "source": [
    "corr = profiler.compute_1d_return_correlation(SYMBOL1, SYMBOL2)\n",
    "print(f\"Correlation between {SYMBOL1} and {SYMBOL2}: {corr:.6f}\")"
   ]
  }
 ],
 "metadata": {
  "kernelspec": {
   "display_name": ".venv",
   "language": "python",
   "name": "python3"
  },
  "language_info": {
   "codemirror_mode": {
    "name": "ipython",
    "version": 3
   },
   "file_extension": ".py",
   "mimetype": "text/x-python",
   "name": "python",
   "nbconvert_exporter": "python",
   "pygments_lexer": "ipython3",
   "version": "3.13.2"
  }
 },
 "nbformat": 4,
 "nbformat_minor": 5
}
