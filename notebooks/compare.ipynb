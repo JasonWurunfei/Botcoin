{
 "cells": [
  {
   "cell_type": "code",
   "execution_count": 1,
   "id": "a2267b01",
   "metadata": {},
   "outputs": [],
   "source": [
    "import sys\n",
    "# Add the src directory to the Python path\n",
    "sys.path.insert(0, '../src')"
   ]
  },
  {
   "cell_type": "code",
   "execution_count": 2,
   "id": "c2536599",
   "metadata": {},
   "outputs": [],
   "source": [
    "from botcoin.profilers.stock import StockProfiler\n",
    "\n",
    "profiler = StockProfiler()"
   ]
  },
  {
   "cell_type": "code",
   "execution_count": 3,
   "id": "348114cd",
   "metadata": {},
   "outputs": [],
   "source": [
    "SYMBOL1 = 'NVDA'\n",
    "SYMBOL2 = 'T'"
   ]
  },
  {
   "cell_type": "code",
   "execution_count": 4,
   "id": "368ee603",
   "metadata": {},
   "outputs": [
    {
     "name": "stderr",
     "output_type": "stream",
     "text": [
      "[*********************100%***********************]  1 of 1 completed"
     ]
    },
    {
     "name": "stdout",
     "output_type": "stream",
     "text": [
      "YF.download() has changed argument auto_adjust default to True\n"
     ]
    },
    {
     "name": "stderr",
     "output_type": "stream",
     "text": [
      "\n",
      "[*********************100%***********************]  1 of 1 completed\n"
     ]
    }
   ],
   "source": [
    "profile1 = profiler.profile(SYMBOL1)\n",
    "profile2 = profiler.profile(SYMBOL2)"
   ]
  },
  {
   "cell_type": "code",
   "execution_count": 5,
   "id": "2119ae1e",
   "metadata": {},
   "outputs": [
    {
     "name": "stdout",
     "output_type": "stream",
     "text": [
      "Symbol: NVDA\n",
      "IPO Date: 1999-01-22\n",
      "Quote: 142.83\n",
      "Annual Return: 103.07%\n",
      "Sharpe Ratio: 1.09\n",
      "Sortino Ratio: 1.12\n",
      "Beta: 2.04\n"
     ]
    }
   ],
   "source": [
    "profiler.print_profile(profile1)"
   ]
  },
  {
   "cell_type": "code",
   "execution_count": 6,
   "id": "763f9ef0",
   "metadata": {},
   "outputs": [
    {
     "name": "stdout",
     "output_type": "stream",
     "text": [
      "Symbol: T\n",
      "IPO Date: 1983-11-21\n",
      "Quote: 28.34\n",
      "Annual Return: 11.20%\n",
      "Sharpe Ratio: 0.42\n",
      "Sortino Ratio: 0.63\n",
      "Beta: 0.42\n"
     ]
    }
   ],
   "source": [
    "profiler.print_profile(profile2)"
   ]
  },
  {
   "cell_type": "code",
   "execution_count": 7,
   "id": "a3d924fe",
   "metadata": {},
   "outputs": [
    {
     "name": "stdout",
     "output_type": "stream",
     "text": [
      "Correlation between NVDA and T: 0.014745\n"
     ]
    }
   ],
   "source": [
    "corr = profiler.compute_1d_return_correlation(SYMBOL1, SYMBOL2)\n",
    "print(f\"Correlation between {SYMBOL1} and {SYMBOL2}: {corr:.6f}\")"
   ]
  }
 ],
 "metadata": {
  "kernelspec": {
   "display_name": ".venv",
   "language": "python",
   "name": "python3"
  },
  "language_info": {
   "codemirror_mode": {
    "name": "ipython",
    "version": 3
   },
   "file_extension": ".py",
   "mimetype": "text/x-python",
   "name": "python",
   "nbconvert_exporter": "python",
   "pygments_lexer": "ipython3",
   "version": "3.13.2"
  }
 },
 "nbformat": 4,
 "nbformat_minor": 5
}
