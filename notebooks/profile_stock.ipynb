{
 "cells": [
  {
   "cell_type": "code",
   "execution_count": 7,
   "id": "a3432d6d",
   "metadata": {},
   "outputs": [],
   "source": [
    "import sys\n",
    "# Add the src directory to the Python path\n",
    "sys.path.insert(0, '../src')"
   ]
  },
  {
   "cell_type": "code",
   "execution_count": 8,
   "id": "eae9f7ef",
   "metadata": {},
   "outputs": [],
   "source": [
    "from botcoin.profilers.stock import StockProfiler"
   ]
  },
  {
   "cell_type": "code",
   "execution_count": 9,
   "id": "75f96787",
   "metadata": {},
   "outputs": [],
   "source": [
    "symbol = \"MSTR\"\n",
    "profiler = StockProfiler()"
   ]
  },
  {
   "cell_type": "code",
   "execution_count": 10,
   "id": "21649a53",
   "metadata": {},
   "outputs": [
    {
     "name": "stderr",
     "output_type": "stream",
     "text": [
      "2025-06-03 23:29:30,194 - DataManager - DEBUG: Retrieving data from local storage.\n",
      "2025-06-03 23:29:30,217 - DataManager - DEBUG: Retrieving data from local storage.\n",
      "2025-06-03 23:29:30,236 - DataManager - DEBUG: Retrieving data from local storage.\n",
      "2025-06-03 23:29:30,256 - DataManager - DEBUG: Retrieving data from local storage.\n",
      "2025-06-03 23:29:30,276 - DataManager - DEBUG: Retrieving data from local storage.\n",
      "2025-06-03 23:29:30,298 - DataManager - DEBUG: Retrieving data from local storage.\n"
     ]
    }
   ],
   "source": [
    "profile = profiler.profile(symbol)"
   ]
  },
  {
   "cell_type": "code",
   "execution_count": 13,
   "id": "2db9bd85",
   "metadata": {},
   "outputs": [
    {
     "name": "stdout",
     "output_type": "stream",
     "text": [
      "Mean 1-minute returns for MSTR: 0.000002\n",
      "Standard deviation of 1-minute returns for MSTR: 0.001748\n",
      "Max 1-minute return for MSTR: 0.041992\n",
      "Min 1-minute return for MSTR: -0.024355\n"
     ]
    }
   ],
   "source": [
    "returns_1min = profile[\"1min_returns\"]\n",
    "print(f\"Mean 1-minute returns for {symbol}: {returns_1min.mean():.6f}\")\n",
    "print(f\"Standard deviation of 1-minute returns for {symbol}: {returns_1min.std():.6f}\")\n",
    "print(f\"Max 1-minute return for {symbol}: {returns_1min.max():.6f}\")\n",
    "print(f\"Min 1-minute return for {symbol}: {returns_1min.min():.6f}\")"
   ]
  }
 ],
 "metadata": {
  "kernelspec": {
   "display_name": ".venv",
   "language": "python",
   "name": "python3"
  },
  "language_info": {
   "codemirror_mode": {
    "name": "ipython",
    "version": 3
   },
   "file_extension": ".py",
   "mimetype": "text/x-python",
   "name": "python",
   "nbconvert_exporter": "python",
   "pygments_lexer": "ipython3",
   "version": "3.13.3"
  }
 },
 "nbformat": 4,
 "nbformat_minor": 5
}
