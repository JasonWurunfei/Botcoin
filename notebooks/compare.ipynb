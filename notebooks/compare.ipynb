{
 "cells": [
  {
   "cell_type": "code",
   "execution_count": 1,
   "id": "a2267b01",
   "metadata": {},
   "outputs": [],
   "source": [
    "import sys\n",
    "# Add the src directory to the Python path\n",
    "sys.path.insert(0, '../src')"
   ]
  },
  {
   "cell_type": "code",
   "execution_count": 2,
   "id": "c2536599",
   "metadata": {},
   "outputs": [],
   "source": [
    "from botcoin.profilers.stock import StockProfiler\n",
    "\n",
    "profiler = StockProfiler()"
   ]
  },
  {
   "cell_type": "code",
   "execution_count": null,
   "id": "348114cd",
   "metadata": {},
   "outputs": [],
   "source": [
    "SYMBOL1 = 'BRK-B'\n",
    "SYMBOL2 = 'T'"
   ]
  },
  {
   "cell_type": "code",
   "execution_count": 4,
   "id": "368ee603",
   "metadata": {},
   "outputs": [
    {
     "name": "stdout",
     "output_type": "stream",
     "text": [
      "YF.download() has changed argument auto_adjust default to True\n"
     ]
    },
    {
     "name": "stderr",
     "output_type": "stream",
     "text": [
      "2025-06-11 16:30:49,829 - DataManager - INFO: Data saved to data\\AAPL_ohlcv_1m.parquet\n",
      "2025-06-11 16:30:50,639 - DataManager - INFO: Data saved to data\\AAPL_ohlcv_1d.parquet\n",
      "[*********************100%***********************]  1 of 1 completed\n",
      "2025-06-11 16:30:52,018 - DataManager - INFO: Data saved to data\\GOOGL_ohlcv_1m.parquet\n",
      "2025-06-11 16:30:52,635 - DataManager - INFO: Data saved to data\\GOOGL_ohlcv_1m.parquet\n",
      "2025-06-11 16:30:52,906 - DataManager - INFO: Data saved to data\\GOOGL_ohlcv_1m.parquet\n",
      "2025-06-11 16:30:53,400 - DataManager - INFO: Data saved to data\\GOOGL_ohlcv_1m.parquet\n",
      "2025-06-11 16:30:53,672 - DataManager - INFO: Data saved to data\\GOOGL_ohlcv_1m.parquet\n",
      "2025-06-11 16:30:54,180 - DataManager - INFO: Data saved to data\\GOOGL_ohlcv_1m.parquet\n",
      "2025-06-11 16:30:54,463 - DataManager - INFO: Data saved to data\\GOOGL_ohlcv_1m.parquet\n",
      "2025-06-11 16:30:54,928 - DataManager - INFO: Data saved to data\\GOOGL_ohlcv_1m.parquet\n",
      "2025-06-11 16:30:55,447 - DataManager - INFO: Data saved to data\\GOOGL_ohlcv_1d.parquet\n",
      "[*********************100%***********************]  1 of 1 completed\n"
     ]
    }
   ],
   "source": [
    "profile1 = profiler.profile(SYMBOL1)\n",
    "profile2 = profiler.profile(SYMBOL2)"
   ]
  },
  {
   "cell_type": "code",
   "execution_count": 5,
   "id": "2119ae1e",
   "metadata": {},
   "outputs": [
    {
     "name": "stdout",
     "output_type": "stream",
     "text": [
      "Current Price of AAPL: 202.72\n",
      "Annual Return of AAPL: 19.15%\n",
      "Sharpe Ratio of AAPL: 1.139606\n",
      "Sortino Ratio of AAPL: 1.025317\n"
     ]
    }
   ],
   "source": [
    "print(f\"Current Price of {SYMBOL1}: {profile1['quote']}\")\n",
    "print(f\"Annual Return of {SYMBOL1}: {profile1['annual_return']:.2%}\")\n",
    "print(f\"Sharpe Ratio of {SYMBOL1}: {profile1['sharpe_ratio']:.6f}\")\n",
    "print(f\"Sortino Ratio of {SYMBOL1}: {profile1['sortino_ratio']:.6f}\")"
   ]
  },
  {
   "cell_type": "code",
   "execution_count": 6,
   "id": "763f9ef0",
   "metadata": {},
   "outputs": [
    {
     "name": "stdout",
     "output_type": "stream",
     "text": [
      "Current Price of GOOGL: 178.9035\n",
      "Annual Return of GOOGL: 22.92%\n",
      "Sharpe Ratio of GOOGL: 0.668091\n",
      "Sortino Ratio of GOOGL: 0.623725\n"
     ]
    }
   ],
   "source": [
    "print(f\"Current Price of {SYMBOL2}: {profile2['quote']}\")\n",
    "print(f\"Annual Return of {SYMBOL2}: {profile2['annual_return']:.2%}\")\n",
    "print(f\"Sharpe Ratio of {SYMBOL2}: {profile2['sharpe_ratio']:.6f}\")\n",
    "print(f\"Sortino Ratio of {SYMBOL2}: {profile2['sortino_ratio']:.6f}\")"
   ]
  },
  {
   "cell_type": "code",
   "execution_count": 7,
   "id": "a3d924fe",
   "metadata": {},
   "outputs": [
    {
     "name": "stdout",
     "output_type": "stream",
     "text": [
      "Correlation between AAPL and GOOGL: 0.617493\n"
     ]
    }
   ],
   "source": [
    "corr = profiler.compute_1d_return_correlation(SYMBOL1, SYMBOL2)\n",
    "print(f\"Correlation between {SYMBOL1} and {SYMBOL2}: {corr:.6f}\")"
   ]
  }
 ],
 "metadata": {
  "kernelspec": {
   "display_name": ".venv",
   "language": "python",
   "name": "python3"
  },
  "language_info": {
   "codemirror_mode": {
    "name": "ipython",
    "version": 3
   },
   "file_extension": ".py",
   "mimetype": "text/x-python",
   "name": "python",
   "nbconvert_exporter": "python",
   "pygments_lexer": "ipython3",
   "version": "3.13.2"
  }
 },
 "nbformat": 4,
 "nbformat_minor": 5
}
